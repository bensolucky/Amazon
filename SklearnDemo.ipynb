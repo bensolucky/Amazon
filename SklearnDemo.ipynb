{
 "cells": [
  {
   "cell_type": "markdown",
   "metadata": {},
   "source": [
    "# Easy Machine Learning in Python: scikit-learn and the RandomForest algorithm.\n",
    "\n",
    "Theis notebook demos the fantastically useful python machine learning package, scikit-learn.  It will particularly showcase the \"Random Forest\" algorithm, included in scikit-learn. (It also relies a great deal on the pandas package).\n",
    "\n",
    "The data is from a Kaggle Contest: \"The Amazon Employee Access Challenge\" (https://www.kaggle.com/c/amazon-employee-access-challenge)  To run and experiment with this notebook on your own machine you will need to register with Kaggle and download the contest data. Just store it in the notebook's working directory.\n",
    "\n",
    "Many thanks to Kaggle and Amazon for hosting the contest, as well as to my teammate Paul Duan, with whom I collaborated during the actual competition. \n",
    "\n",
    "Code for the winning solution Paul and I developed: https://github.com/bensolucky/Amazon\n",
    "\n",
    "This Notebook's Author: Ben Solecki (bensolucky on Gmail, Kaggle and Github)."
   ]
  },
  {
   "cell_type": "markdown",
   "metadata": {},
   "source": [
    "#About Scikit-Learn\n",
    "Scikit-learn is a very well documented (http://scikit-learn.org/stable/) python package for machine-learning.  It allows many forms of supervised, semi-supervised and unsupervised learning, including classification, regression and clustering methods.  It also includes many useful pre-processing, featurization and cross-validation methods. "
   ]
  },
  {
   "cell_type": "markdown",
   "metadata": {},
   "source": [
    "#About Kaggle\n",
    "Kaggle (www.kaggle.com) bills itself as \"the Home of Data Science\", and I agree. It's the best place I've found to learn from and network with other people interested in machine learning and data science. At the heart of Kaggle are its competitions, where sponsors offer some reward for the predictive model that best solves a novel data problem.\n",
    "\n",
    "Kaggle contests have a leaderboard (for example: https://www.kaggle.com/c/amazon-employee-access-challenge/leaderboard) that allow you to upload predictions and see how they score against the competition.  The leaderboard for the Amazon contest is frozen (since the contest ended), but you can still upload predictions and see how they would have done."
   ]
  },
  {
   "cell_type": "markdown",
   "metadata": {},
   "source": [
    "# About RandomForests. \n",
    "\n",
    "Some Highlights:\n",
    "\n",
    "####Strengths:\n",
    "\n",
    "* Ease and speed of use:\n",
    "\n",
    "* Robust to \"User Error\" - relatively hard to make mistakes\n",
    "\n",
    "* Robust to additional noisy or extraneous features\n",
    "\n",
    "* Very little Preproccessing Required (Generally convert factors / text to numerical, fill in missing values with a numerical code and go!).\n",
    "\n",
    "* Naturally picks up variable interactions.\n",
    "\n",
    "* Among the most accurate of algorithms with many types of data (especially categorical data) \n",
    "\n",
    "* Provides some descriptive measure of variable impact, called \"importances\"\n",
    "\n",
    "####Weaknesses:\n",
    "\n",
    "* Can be less strong with strictly \"numerically meaningful\" data, text, binarized variables and low signal to noise ratio data.\n",
    "\n",
    "* Be careful with time variables in time-series prediction, as well as with new or unseen categories\n",
    "\n",
    "* As always, garbage-in, garbage-out.  Data quality is still a limitiation and there is no magic bullet."
   ]
  },
  {
   "cell_type": "markdown",
   "metadata": {},
   "source": [
    "# 0.0 The power of RandomForests and scikit-learn:\n",
    "### These 10 lines of generic code with a runtime of under <i>1 second</i> beats the best submission of more than 600 of the 1,680 contestants. And note this contest ran for over two months."
   ]
  },
  {
   "cell_type": "code",
   "execution_count": 1,
   "metadata": {
    "collapsed": false
   },
   "outputs": [
    {
     "name": "stdout",
     "output_type": "stream",
     "text": [
      "Wall time: 465 ms\n"
     ]
    }
   ],
   "source": [
    "# 2 lines of package importing\n",
    "from sklearn.ensemble import RandomForestClassifier\n",
    "import pandas as pd\n",
    "\n",
    "# pandas makes reading csv data very easy\n",
    "train = pd.read_csv('train.csv')\n",
    "valid = pd.read_csv('test.csv', index_col='id') # Test data has an id column, train does not.\n",
    "\n",
    "# Break the training data into a target (\"dependent\") and inputs (\"inpedendents\")\n",
    "y = train.ACTION\n",
    "X = train.drop([\"ACTION\"], axis=1)\n",
    "\n",
    "# Define the model random forest's defaults and then fit it to the training data\n",
    "model = RandomForestClassifier()\n",
    "%time model.fit(X, y)\n",
    "\n",
    "# Predict the fitted model on the test data and output predictions to a csv\n",
    "submission = pd.DataFrame(columns=['ACTION'], index=valid.index, data=model.predict_proba(valid)[:, 1])\n",
    "submission.to_csv(\"simple_submission.csv\")\n",
    "\n",
    "# Now submit to Kaggle - the score should almost crack the top 1000 and 0.80\n",
    "# The scoring metric used is \"Area Under the ROC Curve\". It is bounded by 0 and 1\n",
    "# For one of many online explanations try http://gim.unmc.edu/dxtests/roc3.htm"
   ]
  },
  {
   "cell_type": "markdown",
   "metadata": {},
   "source": [
    "# 1.0 Data Exploration.\n",
    "## So how can we improve from here?  First, let's backup a bit and take a closer look at the data."
   ]
  },
  {
   "cell_type": "code",
   "execution_count": 2,
   "metadata": {
    "collapsed": false
   },
   "outputs": [
    {
     "name": "stdout",
     "output_type": "stream",
     "text": [
      "Populating the interactive namespace from numpy and matplotlib\n"
     ]
    }
   ],
   "source": [
    "%pylab inline\n",
    "import pandas as pd\n",
    "\n",
    "from sklearn.grid_search import (GridSearchCV, RandomizedSearchCV)\n",
    "from sklearn.ensemble import RandomForestClassifier\n",
    "# Some other sklearn classification algorithms to play with:\n",
    "#from sklearn.svm import SVC\n",
    "#from sklearn.neighbors import KNeighborsClassifier\n",
    "#from sklearn.linear_model import LogisticRegression\n",
    "\n",
    "from random import sample"
   ]
  },
  {
   "cell_type": "markdown",
   "metadata": {},
   "source": [
    "##How many rows and columns? Train has an extra column, because it contains our target classification variable, ACTION. ACTION is missing from the validation set, and predicting it is the whole purpose of the competition."
   ]
  },
  {
   "cell_type": "code",
   "execution_count": 3,
   "metadata": {
    "collapsed": false
   },
   "outputs": [
    {
     "name": "stdout",
     "output_type": "stream",
     "text": [
      "Train Dimensions: 32769 rows and 10 columns\n",
      "Valid Dimensions: 58921 rows and 9 columns\n"
     ]
    }
   ],
   "source": [
    "\"\"\"pandas stores data in obects called DataFrames that make it easy to manipulate the data.\n",
    "If you've never used them before, think of them as sort of like excel spreadsheet objects.\"\"\"\n",
    "print \"Train Dimensions:\", train.shape[0], \"rows and\", train.shape[1], \"columns\"\n",
    "print \"Valid Dimensions:\", valid.shape[0], \"rows and\", valid.shape[1], \"columns\""
   ]
  },
  {
   "cell_type": "markdown",
   "metadata": {},
   "source": [
    "## Most of the variables are categorical and represented with meaningless numerical labels. The sole exception is our target variable, ACTION, which is binary (1s and 0s)."
   ]
  },
  {
   "cell_type": "code",
   "execution_count": 4,
   "metadata": {
    "collapsed": false
   },
   "outputs": [
    {
     "name": "stdout",
     "output_type": "stream",
     "text": [
      "A peak at the first 5 rows of the training data:\n"
     ]
    },
    {
     "data": {
      "text/html": [
       "<div>\n",
       "<table border=\"1\" class=\"dataframe\">\n",
       "  <thead>\n",
       "    <tr style=\"text-align: right;\">\n",
       "      <th></th>\n",
       "      <th>ACTION</th>\n",
       "      <th>RESOURCE</th>\n",
       "      <th>MGR_ID</th>\n",
       "      <th>ROLE_ROLLUP_1</th>\n",
       "      <th>ROLE_ROLLUP_2</th>\n",
       "      <th>ROLE_DEPTNAME</th>\n",
       "      <th>ROLE_TITLE</th>\n",
       "      <th>ROLE_FAMILY_DESC</th>\n",
       "      <th>ROLE_FAMILY</th>\n",
       "      <th>ROLE_CODE</th>\n",
       "    </tr>\n",
       "  </thead>\n",
       "  <tbody>\n",
       "    <tr>\n",
       "      <th>0</th>\n",
       "      <td>1</td>\n",
       "      <td>39353</td>\n",
       "      <td>85475</td>\n",
       "      <td>117961</td>\n",
       "      <td>118300</td>\n",
       "      <td>123472</td>\n",
       "      <td>117905</td>\n",
       "      <td>117906</td>\n",
       "      <td>290919</td>\n",
       "      <td>117908</td>\n",
       "    </tr>\n",
       "    <tr>\n",
       "      <th>1</th>\n",
       "      <td>1</td>\n",
       "      <td>17183</td>\n",
       "      <td>1540</td>\n",
       "      <td>117961</td>\n",
       "      <td>118343</td>\n",
       "      <td>123125</td>\n",
       "      <td>118536</td>\n",
       "      <td>118536</td>\n",
       "      <td>308574</td>\n",
       "      <td>118539</td>\n",
       "    </tr>\n",
       "    <tr>\n",
       "      <th>2</th>\n",
       "      <td>1</td>\n",
       "      <td>36724</td>\n",
       "      <td>14457</td>\n",
       "      <td>118219</td>\n",
       "      <td>118220</td>\n",
       "      <td>117884</td>\n",
       "      <td>117879</td>\n",
       "      <td>267952</td>\n",
       "      <td>19721</td>\n",
       "      <td>117880</td>\n",
       "    </tr>\n",
       "    <tr>\n",
       "      <th>3</th>\n",
       "      <td>1</td>\n",
       "      <td>36135</td>\n",
       "      <td>5396</td>\n",
       "      <td>117961</td>\n",
       "      <td>118343</td>\n",
       "      <td>119993</td>\n",
       "      <td>118321</td>\n",
       "      <td>240983</td>\n",
       "      <td>290919</td>\n",
       "      <td>118322</td>\n",
       "    </tr>\n",
       "    <tr>\n",
       "      <th>4</th>\n",
       "      <td>1</td>\n",
       "      <td>42680</td>\n",
       "      <td>5905</td>\n",
       "      <td>117929</td>\n",
       "      <td>117930</td>\n",
       "      <td>119569</td>\n",
       "      <td>119323</td>\n",
       "      <td>123932</td>\n",
       "      <td>19793</td>\n",
       "      <td>119325</td>\n",
       "    </tr>\n",
       "  </tbody>\n",
       "</table>\n",
       "</div>"
      ],
      "text/plain": [
       "   ACTION  RESOURCE  MGR_ID  ROLE_ROLLUP_1  ROLE_ROLLUP_2  ROLE_DEPTNAME  \\\n",
       "0       1     39353   85475         117961         118300         123472   \n",
       "1       1     17183    1540         117961         118343         123125   \n",
       "2       1     36724   14457         118219         118220         117884   \n",
       "3       1     36135    5396         117961         118343         119993   \n",
       "4       1     42680    5905         117929         117930         119569   \n",
       "\n",
       "   ROLE_TITLE  ROLE_FAMILY_DESC  ROLE_FAMILY  ROLE_CODE  \n",
       "0      117905            117906       290919     117908  \n",
       "1      118536            118536       308574     118539  \n",
       "2      117879            267952        19721     117880  \n",
       "3      118321            240983       290919     118322  \n",
       "4      119323            123932        19793     119325  "
      ]
     },
     "execution_count": 4,
     "metadata": {},
     "output_type": "execute_result"
    }
   ],
   "source": [
    "print \"A peak at the first 5 rows of the training data:\"\n",
    "train.head()"
   ]
  },
  {
   "cell_type": "code",
   "execution_count": 5,
   "metadata": {
    "collapsed": false
   },
   "outputs": [
    {
     "name": "stdout",
     "output_type": "stream",
     "text": [
      "Count of unique values of each column in train set\n",
      "ACTION                 2\n",
      "RESOURCE            7518\n",
      "MGR_ID              4243\n",
      "ROLE_ROLLUP_1        128\n",
      "ROLE_ROLLUP_2        177\n",
      "ROLE_DEPTNAME        449\n",
      "ROLE_TITLE           343\n",
      "ROLE_FAMILY_DESC    2358\n",
      "ROLE_FAMILY           67\n",
      "ROLE_CODE            343\n",
      "dtype: int64\n",
      "\n"
     ]
    }
   ],
   "source": [
    "print \"Count of unique values of each column in train set\"\n",
    "print train.apply(lambda x: len(x.unique()))\n",
    "print"
   ]
  },
  {
   "cell_type": "markdown",
   "metadata": {},
   "source": [
    "# 2.0 Random Forests\n",
    "### The algorithm builds on another method called a \"Decision Tree\".  RF creates many Decision Trees and injects an element of randomness into each one...a \"Forest\" of random trees."
   ]
  },
  {
   "cell_type": "code",
   "execution_count": 6,
   "metadata": {
    "collapsed": false
   },
   "outputs": [
    {
     "data": {
      "text/html": [
       "<img src=\"https://citizennet.com/blog/wp-content/uploads/2012/11/RF.jpg\"/>"
      ],
      "text/plain": [
       "<IPython.core.display.Image object>"
      ]
     },
     "execution_count": 6,
     "metadata": {},
     "output_type": "execute_result"
    }
   ],
   "source": [
    "# The simplest representation of a RandomForest that I could find (credit: citizennet.com)\n",
    "from IPython.display import Image\n",
    "Image(url='https://citizennet.com/blog/wp-content/uploads/2012/11/RF.jpg') "
   ]
  },
  {
   "cell_type": "code",
   "execution_count": 7,
   "metadata": {
    "collapsed": false
   },
   "outputs": [
    {
     "data": {
      "text/plain": [
       "RandomForestClassifier(bootstrap=True, class_weight=None, criterion='gini',\n",
       "            max_depth=None, max_features='auto', max_leaf_nodes=None,\n",
       "            min_samples_leaf=1, min_samples_split=2,\n",
       "            min_weight_fraction_leaf=0.0, n_estimators=10, n_jobs=1,\n",
       "            oob_score=False, random_state=0, verbose=0, warm_start=False)"
      ]
     },
     "execution_count": 7,
     "metadata": {},
     "output_type": "execute_result"
    }
   ],
   "source": [
    "# Set a random seed so that anything random is consistent between runs\n",
    "SEED = 0\n",
    "\n",
    "# Here's the model with its defaults.\n",
    "model = RandomForestClassifier(random_state = SEED)\n",
    "\"\"\"Default paraemters below. Scikit learn has excellent online documentation\n",
    "on these.\"\"\"\n",
    "model"
   ]
  },
  {
   "cell_type": "markdown",
   "metadata": {},
   "source": [
    "# 3 Cross-validation"
   ]
  },
  {
   "cell_type": "markdown",
   "metadata": {},
   "source": [
    "## 3.1 Cross-Validation: Growing more \"trees\" in the forest"
   ]
  },
  {
   "cell_type": "code",
   "execution_count": 8,
   "metadata": {
    "collapsed": false
   },
   "outputs": [
    {
     "name": "stdout",
     "output_type": "stream",
     "text": [
      "Wall time: 37.4 s\n",
      "Here are the scores for each parameter:\n"
     ]
    },
    {
     "data": {
      "text/plain": [
       "[mean: 0.80250, std: 0.01744, params: {'n_estimators': 10},\n",
       " mean: 0.82963, std: 0.01373, params: {'n_estimators': 30},\n",
       " mean: 0.83792, std: 0.01325, params: {'n_estimators': 50},\n",
       " mean: 0.84881, std: 0.01035, params: {'n_estimators': 100}]"
      ]
     },
     "execution_count": 8,
     "metadata": {},
     "output_type": "execute_result"
    }
   ],
   "source": [
    "\"\"\"n_estimators is the number of trees in the random forest.  The code below iterates over the 4 \n",
    "sizes provided and uses 5-fold cross-validation to give an out of sample scoring\"\"\"\n",
    "num_trees = [10, 30, 50, 100]\n",
    "model_grid = {'n_estimators': num_trees}\n",
    "\n",
    "# Grid search conveniantly iterates over the parameters you'd like to cross-validate. \n",
    "grid = GridSearchCV(model, model_grid, cv=5, scoring='roc_auc')\n",
    "\n",
    "%time grid.fit(X, y) # Runs in under a minute on my machine.\n",
    "\n",
    "print \"Here are the scores for each parameter:\"\n",
    "grid.grid_scores_"
   ]
  },
  {
   "cell_type": "code",
   "execution_count": 9,
   "metadata": {
    "collapsed": false
   },
   "outputs": [
    {
     "data": {
      "image/png": "[encoded data removed]",
      "text/plain": [
       "<matplotlib.figure.Figure at 0x39abda0>"
      ]
     },
     "metadata": {},
     "output_type": "display_data"
    }
   ],
   "source": [
    "\"\"\"Varying trees is a trade-off between run-time and model score.  Run-time will increase \n",
    "linearly with trees. Model score will also increase up to some point, but with a \n",
    "decreasing marginal benefit.\"\"\"\n",
    "mean_scores = [param[1] for param in grid.grid_scores_]\n",
    "scores = [param[2] for param in grid.grid_scores_]\n",
    "stdv_scores = [np.std(cvs) for cvs in scores]\n",
    "\n",
    "plt.scatter(num_trees, mean_scores)\n",
    "plt.plot(num_trees, mean_scores)\n",
    "plt.xlabel('Number of Trees (and relative time)')\n",
    "plt.ylabel(\"Cross-Validation Score\")\n",
    "plt.title(\"Score vs Runtime Tradeoff\")\n",
    "plt.show()"
   ]
  },
  {
   "cell_type": "markdown",
   "metadata": {},
   "source": [
    "## 3.2 Refit the model with more trees and submit.\n",
    "###Since more trees is better, let's up the tree count to as high as our attention-spans will allow, refit and see what happens when we submit to Kaggle."
   ]
  },
  {
   "cell_type": "code",
   "execution_count": 10,
   "metadata": {
    "collapsed": false
   },
   "outputs": [
    {
     "name": "stdout",
     "output_type": "stream",
     "text": [
      "Wall time: 40.7 s\n",
      "\n",
      "Sanity Check:\n",
      "Mean of ACTION in training data: 0.942109920962\n",
      "Versus Mean of predicted ACTION: 0.93902883522\n",
      "If these differ by more than 0.01 or so, something may have gone wrong.\n"
     ]
    }
   ],
   "source": [
    "model.n_estimators = 1000\n",
    "%time model.fit(X, y)\n",
    "\n",
    "\"\"\"Predict the fitted model on the test data and output predictions to a csv When I submitted this \n",
    "to the leaderboard the score rose to 0.864 and we gained ~150 leaderboard spots. Not bad for \n",
    "changing one parameter. This is an easy way to improve a random forest (up to a point).\"\"\"\n",
    "predictions = model.predict_proba(valid)[:, 1]\n",
    "submission = pd.DataFrame(columns=['ACTION'], index=valid.index, data=predictions)\n",
    "submission.to_csv(\"simple_submission_1000_trees.csv\")\n",
    "\n",
    "print\n",
    "print \"Sanity Check:\"\n",
    "print \"Mean of ACTION in training data:\", y.mean()\n",
    "print \"Versus Mean of predicted ACTION:\", submission.ACTION.mean()\n",
    "print \"If these differ by more than 0.01 or so, something may have gone wrong.\""
   ]
  },
  {
   "cell_type": "code",
   "execution_count": 11,
   "metadata": {
    "collapsed": true
   },
   "outputs": [],
   "source": [
    "# Let's redo this as a function for reuse\n",
    "def train_and_make_submission(model, test_data, train_data, csv_name):\n",
    "    model.n_estimators = 1000\n",
    "    \n",
    "    # X and y hold the features and target, repectively.\n",
    "    # or inputs / outputs, independents / dependents, whatever you want to call them\n",
    "    y = train.ACTION\n",
    "    X = train.drop([\"ACTION\"], axis=1)\n",
    "    \n",
    "    %time model.fit(X, y)\n",
    "\n",
    "    # Predict the fitted model on the test data and output predictions to a csv\n",
    "    predictions = model.predict_proba(test_data)[:, 1]\n",
    "    submission = pd.DataFrame(columns=['ACTION'], index=test_data.index, data=predictions)\n",
    "    submission.to_csv(csv_name + \".csv\")\n",
    "\n",
    "    print\n",
    "    print \"Sanity Check:\"\n",
    "    print \"Mean of ACTION in training data:\", y.mean()\n",
    "    print \"Versus Mean of predicted ACTION:\", submission.ACTION.mean()\n",
    "    print \"If these differ by more than 0.01 or so, something may have gone wrong.\"\n",
    "    \n",
    "    return model"
   ]
  },
  {
   "cell_type": "markdown",
   "metadata": {},
   "source": [
    "##3.3 Cross-validation to tune the other parameters.\n",
    "###scikit-learn makes it simple to find good values for those other parameters.\n",
    "Sometimes a few small parameter changes can make a huge difference. FYI, if you're familiar with statistics, you can think of these parameters as just trading off bias and variance within each individual tree, by changing the way splits are made."
   ]
  },
  {
   "cell_type": "code",
   "execution_count": 12,
   "metadata": {
    "collapsed": false
   },
   "outputs": [
    {
     "name": "stdout",
     "output_type": "stream",
     "text": [
      "Wall time: 48.8 s\n",
      "Best parameters found:\n",
      "{'max_features': 'sqrt', 'min_samples_split': 9, 'criterion': 'entropy', 'max_depth': None, 'min_samples_leaf': 1}\n"
     ]
    }
   ],
   "source": [
    "# Take it back down to 20 trees so that it runs quickly\n",
    "model.n_estimators = 20\n",
    "\n",
    "# This is a sampling of paramteres and possible values that I've previously found effective, through experimentation.  YMMV\n",
    "model_grid = {'max_features':['sqrt', 0.5, None], 'max_depth': [None, 15, 5], 'min_samples_split': [4,9,25], 'min_samples_leaf':[1,3,5], 'criterion':['gini', 'entropy']}\n",
    "\n",
    "\"\"\"RandomizedSearchCV is an effective way to search a large space of parameters for a good option.  \n",
    "There are 3x3x3x3x2 = 162 combinations of the above params, and it would be tedious to search \n",
    "them all. Instead, we randomly pick 20 combinations and choose the best. It won't be as \n",
    "perfect as searching the whole space, but it will gett to a good selection much faster.\"\"\"\n",
    "grid = RandomizedSearchCV(model, model_grid, n_iter=20, cv=3, scoring=\"roc_auc\")\n",
    "\n",
    "%time grid.fit(X, y) # Runs in 47s for me\n",
    "\n",
    "print \"Best parameters found:\"\n",
    "print grid.best_params_"
   ]
  },
  {
   "cell_type": "markdown",
   "metadata": {},
   "source": [
    "##Retrain and submit with the best parameters found in the last step."
   ]
  },
  {
   "cell_type": "code",
   "execution_count": 13,
   "metadata": {
    "collapsed": false
   },
   "outputs": [
    {
     "name": "stdout",
     "output_type": "stream",
     "text": [
      "Wall time: 48.1 s\n",
      "\n",
      "Sanity Check:\n",
      "Mean of ACTION in training data: 0.942109920962\n",
      "Versus Mean of predicted ACTION: 0.940250452594\n",
      "If these differ by more than 0.01 or so, something may have gone wrong.\n"
     ]
    },
    {
     "data": {
      "text/plain": [
       "\"This model can be used to generate a sumbmissions scoring 0.87353\\nThat's good for #773 in the rankings (a gain of almost 100 positions)\""
      ]
     },
     "execution_count": 13,
     "metadata": {},
     "output_type": "execute_result"
    }
   ],
   "source": [
    "model.set_params(**grid.best_params_)\n",
    "\n",
    "model = train_and_make_submission(model, valid, train, \"tuned_submission\")\n",
    "\n",
    "\"\"\"This model can be used to generate a sumbmissions scoring 0.87353\n",
    "That's good for #773 in the rankings (a gain of almost 100 positions)\"\"\""
   ]
  },
  {
   "cell_type": "markdown",
   "metadata": {},
   "source": [
    "#4 Feature Importances\n",
    "Importances represent the relative % of tree splits (\"decisions\") that were made using each variable, across all the trees in the forest\n",
    "\n",
    "<b>There is no guarantee that a variable that is <i>more important</i> will also make <i>better</i> decisions. </b> (Garbage in is still garbage out), but this can be used to guide decision making and further model improvements"
   ]
  },
  {
   "cell_type": "code",
   "execution_count": 14,
   "metadata": {
    "collapsed": false
   },
   "outputs": [
    {
     "name": "stdout",
     "output_type": "stream",
     "text": [
      "Importances are the fraction of the time each variable is used to make a decision.\n",
      "So they sum to: 1.0\n",
      "The manager of the employee requesting a resource access, along with the resource itself, seem to be most important variables.\n"
     ]
    },
    {
     "data": {
      "image/png": "[encoded data removed]",
      "text/plain": [
       "<matplotlib.figure.Figure at 0x2c55ef60>"
      ]
     },
     "metadata": {},
     "output_type": "display_data"
    }
   ],
   "source": [
    "# Take advantage of pandas built-in plotting for a 1-liner\n",
    "pd.Series(index=X.columns, data = model.feature_importances_).order().plot(kind='barh', title='Variable Importances')\n",
    "print \"Importances are the fraction of the time each variable is used to make a decision.\"\n",
    "print \"So they sum to:\", sum(model.feature_importances_)\n",
    "\n",
    "print \"The manager of the employee requesting a resource access, along with the resource itself, seem to be most important variables.\""
   ]
  },
  {
   "cell_type": "markdown",
   "metadata": {},
   "source": [
    "# 5.0 Featurization (Optional)\n",
    "### This section demos typical examples of adding features or cleaning data."
   ]
  },
  {
   "cell_type": "code",
   "execution_count": 15,
   "metadata": {
    "collapsed": false
   },
   "outputs": [
    {
     "name": "stdout",
     "output_type": "stream",
     "text": [
      "Size of all data:  (91690, 10)\n",
      "New size of data:  (91690, 9)\n"
     ]
    }
   ],
   "source": [
    "\"\"\" Concatenate train and validation together to featurize them together consistently.\n",
    "This is a critical step in the featurization methodology and skipping it or performing it\n",
    "incorrectly will cause huge problems \"\"\"\n",
    "df = pd.concat((valid, train), ignore_index=False) # ignore_index=False preserves row labeling.\n",
    "# NaN (numpy code for missing), is added by pandas for the ACTION column.\n",
    "print \"Size of all data: \", df.shape\n",
    "\n",
    "# A quirk of the data is that the column ROLE_CODE is completely redundant with another column.\n",
    "# So it can be safely ignored.\n",
    "df = df.drop(['ROLE_CODE'], axis=1)\n",
    "print \"New size of data: \", df.shape"
   ]
  },
  {
   "cell_type": "markdown",
   "metadata": {},
   "source": [
    "## 5.1 Add count features"
   ]
  },
  {
   "cell_type": "code",
   "execution_count": 16,
   "metadata": {
    "collapsed": false
   },
   "outputs": [
    {
     "name": "stdout",
     "output_type": "stream",
     "text": [
      "Adding Count Features\n",
      "DataFrame's old dimensions: (91690, 9)\n",
      "\n",
      "MGR_ID 4913 unique values and the most frequent occurs 428 times.\n",
      "RESOURCE 7518 unique values and the most frequent occurs 2828 times.\n",
      "ROLE_DEPTNAME 476 unique values and the most frequent occurs 3396 times.\n",
      "ROLE_FAMILY 68 unique values and the most frequent occurs 28861 times.\n",
      "ROLE_FAMILY_DESC 2951 unique values and the most frequent occurs 17996 times.\n",
      "ROLE_ROLLUP_1 130 unique values and the most frequent occurs 59065 times.\n",
      "ROLE_ROLLUP_2 183 unique values and the most frequent occurs 12155 times.\n",
      "ROLE_TITLE 361 unique values and the most frequent occurs 12082 times.\n",
      "\n",
      "DataFrame's new dimensions: (91690, 17)\n"
     ]
    },
    {
     "data": {
      "text/html": [
       "<div>\n",
       "<table border=\"1\" class=\"dataframe\">\n",
       "  <thead>\n",
       "    <tr style=\"text-align: right;\">\n",
       "      <th></th>\n",
       "      <th>ACTION</th>\n",
       "      <th>MGR_ID</th>\n",
       "      <th>RESOURCE</th>\n",
       "      <th>ROLE_DEPTNAME</th>\n",
       "      <th>ROLE_FAMILY</th>\n",
       "      <th>ROLE_FAMILY_DESC</th>\n",
       "      <th>ROLE_ROLLUP_1</th>\n",
       "      <th>ROLE_ROLLUP_2</th>\n",
       "      <th>ROLE_TITLE</th>\n",
       "      <th>count_MGR_ID</th>\n",
       "      <th>count_RESOURCE</th>\n",
       "      <th>count_ROLE_DEPTNAME</th>\n",
       "      <th>count_ROLE_FAMILY</th>\n",
       "      <th>count_ROLE_FAMILY_DESC</th>\n",
       "      <th>count_ROLE_ROLLUP_1</th>\n",
       "      <th>count_ROLE_ROLLUP_2</th>\n",
       "      <th>count_ROLE_TITLE</th>\n",
       "    </tr>\n",
       "    <tr>\n",
       "      <th>id</th>\n",
       "      <th></th>\n",
       "      <th></th>\n",
       "      <th></th>\n",
       "      <th></th>\n",
       "      <th></th>\n",
       "      <th></th>\n",
       "      <th></th>\n",
       "      <th></th>\n",
       "      <th></th>\n",
       "      <th></th>\n",
       "      <th></th>\n",
       "      <th></th>\n",
       "      <th></th>\n",
       "      <th></th>\n",
       "      <th></th>\n",
       "      <th></th>\n",
       "      <th></th>\n",
       "    </tr>\n",
       "  </thead>\n",
       "  <tbody>\n",
       "    <tr>\n",
       "      <th>1</th>\n",
       "      <td>NaN</td>\n",
       "      <td>72734</td>\n",
       "      <td>78766</td>\n",
       "      <td>117878</td>\n",
       "      <td>19721</td>\n",
       "      <td>118177</td>\n",
       "      <td>118079</td>\n",
       "      <td>118080</td>\n",
       "      <td>117879</td>\n",
       "      <td>17</td>\n",
       "      <td>58</td>\n",
       "      <td>3396</td>\n",
       "      <td>7768</td>\n",
       "      <td>421</td>\n",
       "      <td>770</td>\n",
       "      <td>770</td>\n",
       "      <td>3838</td>\n",
       "    </tr>\n",
       "    <tr>\n",
       "      <th>2</th>\n",
       "      <td>NaN</td>\n",
       "      <td>4378</td>\n",
       "      <td>40644</td>\n",
       "      <td>118507</td>\n",
       "      <td>118398</td>\n",
       "      <td>122008</td>\n",
       "      <td>117961</td>\n",
       "      <td>118327</td>\n",
       "      <td>118863</td>\n",
       "      <td>58</td>\n",
       "      <td>7</td>\n",
       "      <td>787</td>\n",
       "      <td>3651</td>\n",
       "      <td>73</td>\n",
       "      <td>59065</td>\n",
       "      <td>7509</td>\n",
       "      <td>358</td>\n",
       "    </tr>\n",
       "    <tr>\n",
       "      <th>3</th>\n",
       "      <td>NaN</td>\n",
       "      <td>2395</td>\n",
       "      <td>75443</td>\n",
       "      <td>119488</td>\n",
       "      <td>249618</td>\n",
       "      <td>301534</td>\n",
       "      <td>117961</td>\n",
       "      <td>118300</td>\n",
       "      <td>118172</td>\n",
       "      <td>136</td>\n",
       "      <td>37</td>\n",
       "      <td>90</td>\n",
       "      <td>658</td>\n",
       "      <td>416</td>\n",
       "      <td>59065</td>\n",
       "      <td>12155</td>\n",
       "      <td>180</td>\n",
       "    </tr>\n",
       "    <tr>\n",
       "      <th>4</th>\n",
       "      <td>NaN</td>\n",
       "      <td>19986</td>\n",
       "      <td>43219</td>\n",
       "      <td>118403</td>\n",
       "      <td>118960</td>\n",
       "      <td>136187</td>\n",
       "      <td>117961</td>\n",
       "      <td>118225</td>\n",
       "      <td>120773</td>\n",
       "      <td>117</td>\n",
       "      <td>7</td>\n",
       "      <td>1475</td>\n",
       "      <td>1152</td>\n",
       "      <td>82</td>\n",
       "      <td>59065</td>\n",
       "      <td>6976</td>\n",
       "      <td>707</td>\n",
       "    </tr>\n",
       "    <tr>\n",
       "      <th>5</th>\n",
       "      <td>NaN</td>\n",
       "      <td>50015</td>\n",
       "      <td>42093</td>\n",
       "      <td>119598</td>\n",
       "      <td>118424</td>\n",
       "      <td>300136</td>\n",
       "      <td>117961</td>\n",
       "      <td>118343</td>\n",
       "      <td>118422</td>\n",
       "      <td>52</td>\n",
       "      <td>647</td>\n",
       "      <td>1592</td>\n",
       "      <td>8166</td>\n",
       "      <td>638</td>\n",
       "      <td>59065</td>\n",
       "      <td>10920</td>\n",
       "      <td>1110</td>\n",
       "    </tr>\n",
       "  </tbody>\n",
       "</table>\n",
       "</div>"
      ],
      "text/plain": [
       "    ACTION  MGR_ID  RESOURCE  ROLE_DEPTNAME  ROLE_FAMILY  ROLE_FAMILY_DESC  \\\n",
       "id                                                                           \n",
       "1      NaN   72734     78766         117878        19721            118177   \n",
       "2      NaN    4378     40644         118507       118398            122008   \n",
       "3      NaN    2395     75443         119488       249618            301534   \n",
       "4      NaN   19986     43219         118403       118960            136187   \n",
       "5      NaN   50015     42093         119598       118424            300136   \n",
       "\n",
       "    ROLE_ROLLUP_1  ROLE_ROLLUP_2  ROLE_TITLE  count_MGR_ID  count_RESOURCE  \\\n",
       "id                                                                           \n",
       "1          118079         118080      117879            17              58   \n",
       "2          117961         118327      118863            58               7   \n",
       "3          117961         118300      118172           136              37   \n",
       "4          117961         118225      120773           117               7   \n",
       "5          117961         118343      118422            52             647   \n",
       "\n",
       "    count_ROLE_DEPTNAME  count_ROLE_FAMILY  count_ROLE_FAMILY_DESC  \\\n",
       "id                                                                   \n",
       "1                  3396               7768                     421   \n",
       "2                   787               3651                      73   \n",
       "3                    90                658                     416   \n",
       "4                  1475               1152                      82   \n",
       "5                  1592               8166                     638   \n",
       "\n",
       "    count_ROLE_ROLLUP_1  count_ROLE_ROLLUP_2  count_ROLE_TITLE  \n",
       "id                                                              \n",
       "1                   770                  770              3838  \n",
       "2                 59065                 7509               358  \n",
       "3                 59065                12155               180  \n",
       "4                 59065                 6976               707  \n",
       "5                 59065                10920              1110  "
      ]
     },
     "execution_count": 16,
     "metadata": {},
     "output_type": "execute_result"
    }
   ],
   "source": [
    "\"\"\" For each column, we'll create a value storing the number of times each category appears \n",
    "in the data. The new data columns effectively describe how common each category is. \"\"\"\n",
    "\n",
    "print \"Adding Count Features\"\n",
    "print \"DataFrame's old dimensions:\", df.shape\n",
    "print \n",
    "for col in df.columns:\n",
    "    if col == 'ACTION': # Of course we skip ACTION, since it's the target.\n",
    "        continue\n",
    "    print col,\n",
    "    \n",
    "    from sklearn.feature_extraction.text import CountVectorizer\n",
    "    \n",
    "    count = df[col].value_counts() # returns a series of counts for each category.\n",
    "    print len(count), \"unique values and the most frequent occurs\", count.max(), \"times.\"\n",
    "    # Create each new count column here.\n",
    "    df['count_'+col] = df[col].replace(count)\n",
    "print\n",
    "print \"DataFrame's new dimensions:\", df.shape\n",
    "\n",
    "df.head()"
   ]
  },
  {
   "cell_type": "code",
   "execution_count": 17,
   "metadata": {
    "collapsed": false
   },
   "outputs": [
    {
     "name": "stdout",
     "output_type": "stream",
     "text": [
      "Wall time: 53 s\n",
      "\n",
      "Sanity Check:\n",
      "Mean of ACTION in training data: 0.942109920962\n",
      "Versus Mean of predicted ACTION: 0.941244026632\n",
      "If these differ by more than 0.01 or so, something may have gone wrong.\n"
     ]
    },
    {
     "data": {
      "text/plain": [
       "\"This model can be used to generate a sumbmissions scoring 0.881\\nThat's good for # 649 / 1684 in the rankings (another 100 positions)\\nand only about 0.04 from first place.\""
      ]
     },
     "execution_count": 17,
     "metadata": {},
     "output_type": "execute_result"
    }
   ],
   "source": [
    "train = df.loc[pd.notnull(df.ACTION)]\n",
    "valid = df.loc[pd.isnull(df.ACTION)]\n",
    "valid = valid.drop(['ACTION'], axis=1)\n",
    "model = train_and_make_submission(model, valid, train, \"with_counts\")\n",
    "\"\"\"This model can be used to generate a sumbmissions scoring 0.881\n",
    "That's good for # 649 / 1684 in the rankings (another 100 positions)\n",
    "and only about 0.04 from first place.\"\"\""
   ]
  },
  {
   "cell_type": "markdown",
   "metadata": {},
   "source": [
    "## 5.2 Adding Noise (just for demonstration)\n",
    "Let's add some extra noise columns with NO useful information.  \n",
    "This will hurt the model's accuracy, but the point is to show RFs are fairly robust to noise and data quality issues."
   ]
  },
  {
   "cell_type": "code",
   "execution_count": 18,
   "metadata": {
    "collapsed": false
   },
   "outputs": [
    {
     "name": "stdout",
     "output_type": "stream",
     "text": [
      "Shape of model with extra noise: (91690, 22)\n",
      "Now 5 of 22 columns are totally random information\n"
     ]
    },
    {
     "data": {
      "text/html": [
       "<div>\n",
       "<table border=\"1\" class=\"dataframe\">\n",
       "  <thead>\n",
       "    <tr style=\"text-align: right;\">\n",
       "      <th></th>\n",
       "      <th>uniform_noise</th>\n",
       "      <th>normal_noise</th>\n",
       "      <th>poisson_noise</th>\n",
       "      <th>geometric_noise</th>\n",
       "      <th>exponential_noise</th>\n",
       "    </tr>\n",
       "  </thead>\n",
       "  <tbody>\n",
       "    <tr>\n",
       "      <th>count</th>\n",
       "      <td>91690.000000</td>\n",
       "      <td>91690.000000</td>\n",
       "      <td>91690.000000</td>\n",
       "      <td>91690.000000</td>\n",
       "      <td>91690.000000</td>\n",
       "    </tr>\n",
       "    <tr>\n",
       "      <th>mean</th>\n",
       "      <td>0.499662</td>\n",
       "      <td>0.003280</td>\n",
       "      <td>1.002236</td>\n",
       "      <td>1.996924</td>\n",
       "      <td>0.996692</td>\n",
       "    </tr>\n",
       "    <tr>\n",
       "      <th>std</th>\n",
       "      <td>0.288196</td>\n",
       "      <td>1.000991</td>\n",
       "      <td>1.004796</td>\n",
       "      <td>1.410480</td>\n",
       "      <td>0.989799</td>\n",
       "    </tr>\n",
       "    <tr>\n",
       "      <th>min</th>\n",
       "      <td>0.000027</td>\n",
       "      <td>-4.394650</td>\n",
       "      <td>0.000000</td>\n",
       "      <td>1.000000</td>\n",
       "      <td>0.000006</td>\n",
       "    </tr>\n",
       "    <tr>\n",
       "      <th>25%</th>\n",
       "      <td>0.250117</td>\n",
       "      <td>-0.668689</td>\n",
       "      <td>0.000000</td>\n",
       "      <td>1.000000</td>\n",
       "      <td>0.286970</td>\n",
       "    </tr>\n",
       "    <tr>\n",
       "      <th>50%</th>\n",
       "      <td>0.498617</td>\n",
       "      <td>0.007270</td>\n",
       "      <td>1.000000</td>\n",
       "      <td>1.000000</td>\n",
       "      <td>0.692766</td>\n",
       "    </tr>\n",
       "    <tr>\n",
       "      <th>75%</th>\n",
       "      <td>0.748090</td>\n",
       "      <td>0.680032</td>\n",
       "      <td>2.000000</td>\n",
       "      <td>3.000000</td>\n",
       "      <td>1.384115</td>\n",
       "    </tr>\n",
       "    <tr>\n",
       "      <th>max</th>\n",
       "      <td>0.999967</td>\n",
       "      <td>4.478210</td>\n",
       "      <td>7.000000</td>\n",
       "      <td>16.000000</td>\n",
       "      <td>11.284102</td>\n",
       "    </tr>\n",
       "  </tbody>\n",
       "</table>\n",
       "</div>"
      ],
      "text/plain": [
       "       uniform_noise  normal_noise  poisson_noise  geometric_noise  \\\n",
       "count   91690.000000  91690.000000   91690.000000     91690.000000   \n",
       "mean        0.499662      0.003280       1.002236         1.996924   \n",
       "std         0.288196      1.000991       1.004796         1.410480   \n",
       "min         0.000027     -4.394650       0.000000         1.000000   \n",
       "25%         0.250117     -0.668689       0.000000         1.000000   \n",
       "50%         0.498617      0.007270       1.000000         1.000000   \n",
       "75%         0.748090      0.680032       2.000000         3.000000   \n",
       "max         0.999967      4.478210       7.000000        16.000000   \n",
       "\n",
       "       exponential_noise  \n",
       "count       91690.000000  \n",
       "mean            0.996692  \n",
       "std             0.989799  \n",
       "min             0.000006  \n",
       "25%             0.286970  \n",
       "50%             0.692766  \n",
       "75%             1.384115  \n",
       "max            11.284102  "
      ]
     },
     "execution_count": 18,
     "metadata": {},
     "output_type": "execute_result"
    }
   ],
   "source": [
    "# Add 5 noise columns from various random distributions\n",
    "size = len(df)\n",
    "\n",
    "df[\"uniform_noise\"] = np.random.uniform(low=0.0, high=1.0, size=size)\n",
    "df[\"normal_noise\"] = np.random.normal(loc=0.0, scale=1.0, size=size)\n",
    "df[\"poisson_noise\"] = np.random.poisson(lam=1.0, size=size)\n",
    "df[\"geometric_noise\"] = np.random.geometric(p=0.5, size=size)\n",
    "df[\"exponential_noise\"] = np.random.exponential(scale=1.0, size=size)\n",
    "\n",
    "print \"Shape of model with extra noise:\", df.shape\n",
    "print \"Now 5 of\", df.shape[1], \"columns are totally random information\"\n",
    "df[[\"uniform_noise\", \"normal_noise\", \"poisson_noise\", \"geometric_noise\", \"exponential_noise\"]].describe()"
   ]
  },
  {
   "cell_type": "code",
   "execution_count": 19,
   "metadata": {
    "collapsed": false
   },
   "outputs": [
    {
     "name": "stdout",
     "output_type": "stream",
     "text": [
      "Wall time: 1min 18s\n",
      "\n",
      "Sanity Check:\n",
      "Mean of ACTION in training data: 0.942109920962\n",
      "Versus Mean of predicted ACTION: 0.940461451438\n",
      "If these differ by more than 0.01 or so, something may have gone wrong.\n"
     ]
    },
    {
     "data": {
      "text/plain": [
       "'Adding noise dropped the AUC from 0.881 to 0.863.  Noise is not helpful, but\\nalso not disastrous to RF by any stretch.'"
      ]
     },
     "execution_count": 19,
     "metadata": {},
     "output_type": "execute_result"
    }
   ],
   "source": [
    "train = df.loc[pd.notnull(df.ACTION)]\n",
    "valid = df.loc[pd.isnull(df.ACTION)]\n",
    "valid = valid.drop(['ACTION'], axis=1)\n",
    "model = train_and_make_submission(model, valid, train, \"with_noise\")\n",
    "\"\"\"Adding noise dropped the AUC from 0.881 to 0.863.  Noise is not helpful, but\n",
    "also not disastrous to RF by any stretch.\"\"\""
   ]
  },
  {
   "cell_type": "markdown",
   "metadata": {},
   "source": [
    "##5.3 Adding Missing Data (Also For Fun)\n",
    "Let's show what would happen if we had missing data.  RandomForest also handles this very well smoothly, there's no need to impute missing values, drop some data, or calculate the mean / median and substitute it in.  For other algorithms this step\n",
    "can be a lot of work."
   ]
  },
  {
   "cell_type": "code",
   "execution_count": 20,
   "metadata": {
    "collapsed": false
   },
   "outputs": [
    {
     "name": "stdout",
     "output_type": "stream",
     "text": [
      "Missing Values\n",
      "ACTION                    58921\n",
      "MGR_ID                     4584\n",
      "RESOURCE                   4584\n",
      "ROLE_DEPTNAME              4584\n",
      "ROLE_FAMILY                4584\n",
      "ROLE_FAMILY_DESC           4584\n",
      "ROLE_ROLLUP_1              4584\n",
      "ROLE_ROLLUP_2              4584\n",
      "ROLE_TITLE                 4584\n",
      "count_MGR_ID               4584\n",
      "count_RESOURCE             4584\n",
      "count_ROLE_DEPTNAME        4584\n",
      "count_ROLE_FAMILY          4584\n",
      "count_ROLE_FAMILY_DESC     4584\n",
      "count_ROLE_ROLLUP_1        4584\n",
      "count_ROLE_ROLLUP_2        4584\n",
      "count_ROLE_TITLE           4584\n",
      "uniform_noise              4584\n",
      "normal_noise               4584\n",
      "poisson_noise              4584\n",
      "geometric_noise            4584\n",
      "exponential_noise          4584\n",
      "dtype: int64\n",
      "\n",
      "Minimum Value for each column:\n",
      "ACTION                         0.000000\n",
      "MGR_ID                        25.000000\n",
      "RESOURCE                       0.000000\n",
      "ROLE_DEPTNAME               4674.000000\n",
      "ROLE_FAMILY                 3130.000000\n",
      "ROLE_FAMILY_DESC            4673.000000\n",
      "ROLE_ROLLUP_1               4292.000000\n",
      "ROLE_ROLLUP_2              23779.000000\n",
      "ROLE_TITLE                117879.000000\n",
      "count_MGR_ID                   1.000000\n",
      "count_RESOURCE                 1.000000\n",
      "count_ROLE_DEPTNAME            1.000000\n",
      "count_ROLE_FAMILY              1.000000\n",
      "count_ROLE_FAMILY_DESC         1.000000\n",
      "count_ROLE_ROLLUP_1            1.000000\n",
      "count_ROLE_ROLLUP_2            1.000000\n",
      "count_ROLE_TITLE               1.000000\n",
      "uniform_noise                  0.000027\n",
      "normal_noise                  -4.394650\n",
      "poisson_noise                  0.000000\n",
      "geometric_noise                1.000000\n",
      "exponential_noise              0.000006\n",
      "dtype: float64\n"
     ]
    },
    {
     "name": "stderr",
     "output_type": "stream",
     "text": [
      "C:\\Users\\ben\\Anaconda\\lib\\site-packages\\pandas\\core\\indexing.py:115: SettingWithCopyWarning: \n",
      "A value is trying to be set on a copy of a slice from a DataFrame\n",
      "\n",
      "See the the caveats in the documentation: http://pandas.pydata.org/pandas-docs/stable/indexing.html#indexing-view-versus-copy\n",
      "  self._setitem_with_indexer(indexer, value)\n"
     ]
    }
   ],
   "source": [
    "# Let's replace 5% of the data with NaN (numpy code for missing data)\n",
    "\n",
    "# We'll replace data in all columns except ACTION.\n",
    "feature_columns = [col for col in df.columns[df.columns != 'ACTION']]\n",
    "\n",
    "# Below code just replaces a random 5% of the data for each column\n",
    "for col in feature_columns:\n",
    "    rindex =  np.array(sample(range(size), size / 20))\n",
    "    df[col].iloc[rindex] = np.nan\n",
    "\n",
    "# Check how many missing values are in each column.\n",
    "# The missing values in ACTION are just from the valid column\n",
    "print \"Missing Values\"\n",
    "print df.isnull().sum()\n",
    "\n",
    "print\n",
    "print \"Minimum Value for each column:\"\n",
    "print df.min()\n",
    "\n",
    "\"\"\"Replace NaN with a placeholder value.  -99 was selected because it is far outside the range of \n",
    "possible existing values. RandomForest, unlike linear / logistic regression, SVM or KNNs, doesn't\n",
    "really care how inputs are scaled, or what order categoricals are put in.\"\"\"\n",
    "df[feature_columns] = df[feature_columns].fillna(-99)"
   ]
  },
  {
   "cell_type": "code",
   "execution_count": 25,
   "metadata": {
    "collapsed": false
   },
   "outputs": [
    {
     "name": "stdout",
     "output_type": "stream",
     "text": [
      "Wall time: 1min 16s\n",
      "\n",
      "Sanity Check:\n",
      "Mean of ACTION in training data: 0.942109920962\n",
      "Versus Mean of predicted ACTION: 0.939490571812\n",
      "If these differ by more than 0.01 or so, something may have gone wrong.\n"
     ]
    },
    {
     "data": {
      "text/plain": [
       "'Adding missings and replacing them with the simple placeholder method\\nonly drops AUC a further ~0.01, from 0.863 to 0.854.'"
      ]
     },
     "execution_count": 25,
     "metadata": {},
     "output_type": "execute_result"
    }
   ],
   "source": [
    "train = df.loc[pd.notnull(df.ACTION)]\n",
    "valid = df.loc[pd.isnull(df.ACTION)]\n",
    "valid = valid.drop(['ACTION'], axis=1)\n",
    "model = train_and_make_submission(model, valid, train, \"with_missings\")\n",
    "\"\"\"Adding missings and replacing them with the simple placeholder method\n",
    "only drops AUC a further ~0.01, from 0.863 to 0.854.\"\"\""
   ]
  },
  {
   "cell_type": "markdown",
   "metadata": {},
   "source": [
    "#6 More  scikit-learn functionality\n",
    "More useful functions that weren't neccessary for this example but could come in handy"
   ]
  },
  {
   "cell_type": "markdown",
   "metadata": {},
   "source": [
    "###6.1 Data Pre-processing"
   ]
  },
  {
   "cell_type": "code",
   "execution_count": 22,
   "metadata": {
    "collapsed": false
   },
   "outputs": [
    {
     "name": "stdout",
     "output_type": "stream",
     "text": [
      "Means:\n",
      "ACTION                    3.535221e-16\n",
      "MGR_ID                   -1.463594e-16\n",
      "RESOURCE                  2.886939e-17\n",
      "ROLE_DEPTNAME             3.183112e-16\n",
      "ROLE_FAMILY              -3.468460e-16\n",
      "ROLE_FAMILY_DESC         -2.253513e-16\n",
      "ROLE_ROLLUP_1            -5.053024e-16\n",
      "ROLE_ROLLUP_2            -3.753995e-16\n",
      "ROLE_TITLE               -2.961497e-16\n",
      "count_MGR_ID              1.671823e-16\n",
      "count_RESOURCE            5.128289e-17\n",
      "count_ROLE_DEPTNAME       4.705294e-17\n",
      "count_ROLE_FAMILY        -3.131284e-16\n",
      "count_ROLE_FAMILY_DESC    1.814933e-16\n",
      "count_ROLE_ROLLUP_1       1.179813e-15\n",
      "count_ROLE_ROLLUP_2       5.889071e-17\n",
      "count_ROLE_TITLE          1.898533e-16\n",
      "uniform_noise            -7.412244e-17\n",
      "normal_noise             -6.536269e-17\n",
      "poisson_noise             1.170361e-16\n",
      "geometric_noise          -3.273940e-15\n",
      "exponential_noise        -1.069313e-16\n",
      "dtype: float64\n",
      "\n",
      "Variances:\n",
      "ACTION                    1.000015\n",
      "MGR_ID                    1.000015\n",
      "RESOURCE                  1.000015\n",
      "ROLE_DEPTNAME             1.000015\n",
      "ROLE_FAMILY               1.000015\n",
      "ROLE_FAMILY_DESC          1.000015\n",
      "ROLE_ROLLUP_1             1.000015\n",
      "ROLE_ROLLUP_2             1.000015\n",
      "ROLE_TITLE                1.000015\n",
      "count_MGR_ID              1.000015\n",
      "count_RESOURCE            1.000015\n",
      "count_ROLE_DEPTNAME       1.000015\n",
      "count_ROLE_FAMILY         1.000015\n",
      "count_ROLE_FAMILY_DESC    1.000015\n",
      "count_ROLE_ROLLUP_1       1.000015\n",
      "count_ROLE_ROLLUP_2       1.000015\n",
      "count_ROLE_TITLE          1.000015\n",
      "uniform_noise             1.000015\n",
      "normal_noise              1.000015\n",
      "poisson_noise             1.000015\n",
      "geometric_noise           1.000015\n",
      "exponential_noise         1.000015\n",
      "dtype: float64\n"
     ]
    }
   ],
   "source": [
    "# Standardizing input data\n",
    "# Not neccessary for RandomForest, but required for SVMs, logistic regressions and\n",
    "# many other algorithms\n",
    "from sklearn.preprocessing import StandardScaler\n",
    "SS = StandardScaler(copy=False, with_mean=True, with_std=True)\n",
    "SS.fit_transform(train)\n",
    "print \"Means:\"\n",
    "print train.mean()\n",
    "print\n",
    "print \"Variances:\"\n",
    "print train.std()"
   ]
  },
  {
   "cell_type": "code",
   "execution_count": 23,
   "metadata": {
    "collapsed": false
   },
   "outputs": [
    {
     "name": "stdout",
     "output_type": "stream",
     "text": [
      "69 unique values in the ROLE_FAMILY column\n",
      "Dimensions of Binarized ROLE_FAMILY: 58921 rows and 69 columns\n"
     ]
    }
   ],
   "source": [
    "# Binarization\n",
    "# Also not neccessary or recommended for RandomForest Algorithm\n",
    "# But other techniques (Logistic Regression, for example) require something like this\n",
    "print len(valid[\"ROLE_FAMILY\"].unique()), \"unique values in the ROLE_FAMILY column\"\n",
    "\n",
    "# OneHotEncoder can't deal with negative values\n",
    "valid[\"ROLE_FAMILY\"] = valid[\"ROLE_FAMILY\"].replace(-99, 0)\n",
    "\n",
    "from sklearn.preprocessing import OneHotEncoder\n",
    "\n",
    "enc = OneHotEncoder()\n",
    "encoded = enc.fit_transform(valid[[\"ROLE_FAMILY\"]])\n",
    "\n",
    "print \"Dimensions of Binarized ROLE_FAMILY:\", encoded.shape[0], \"rows and\", encoded.shape[1], \"columns\""
   ]
  },
  {
   "cell_type": "markdown",
   "metadata": {},
   "source": [
    "###6.2 Dimensionality Reduction"
   ]
  },
  {
   "cell_type": "code",
   "execution_count": 24,
   "metadata": {
    "collapsed": false
   },
   "outputs": [
    {
     "data": {
      "text/plain": [
       "array([ 0.46023269,  0.23855824,  0.07044838])"
      ]
     },
     "execution_count": 24,
     "metadata": {},
     "output_type": "execute_result"
    }
   ],
   "source": [
    "# PCA\n",
    "# This doesn't really make sense because this data is categorical, not numerical\n",
    "# But I include it just to demo the functionality\n",
    "\n",
    "from sklearn.decomposition import PCA\n",
    "#\n",
    "pca = PCA(n_components=3)\n",
    "valid = pca.fit_transform(valid)\n",
    "pca.explained_variance_ratio_"
   ]
  },
  {
   "cell_type": "code",
   "execution_count": null,
   "metadata": {
    "collapsed": true
   },
   "outputs": [],
   "source": []
  }
 ],
 "metadata": {
  "kernelspec": {
   "display_name": "Python 2",
   "language": "python",
   "name": "python2"
  },
  "language_info": {
   "codemirror_mode": {
    "name": "ipython",
    "version": 2
   },
   "file_extension": ".py",
   "mimetype": "text/x-python",
   "name": "python",
   "nbconvert_exporter": "python",
   "pygments_lexer": "ipython2",
   "version": "2.7.9"
  }
 },
 "nbformat": 4,
 "nbformat_minor": 0
}
